{
 "cells": [
  {
   "cell_type": "code",
   "execution_count": 1,
   "id": "d3e6bba1-e447-4ee6-8761-96ce595f8fb3",
   "metadata": {
    "execution": {
     "iopub.execute_input": "2023-01-02T21:38:06.517000+01:00",
     "iopub.status.busy": "2023-01-02T21:38:05.985000+01:00",
     "iopub.status.idle": "2023-01-02T21:38:06.814000+01:00",
     "shell.execute_reply": "2023-01-02T21:38:06.745000+01:00"
    },
    "tags": []
   },
   "outputs": [],
   "source": [
    "using MariuxUtils\n",
    "using Distributed"
   ]
  },
  {
   "cell_type": "code",
   "execution_count": 2,
   "id": "a255d7c5-d9db-45d7-99db-0ab426f78807",
   "metadata": {
    "execution": {
     "iopub.execute_input": "2023-01-02T21:38:10.160000+01:00",
     "iopub.status.busy": "2023-01-02T21:38:10.159000+01:00",
     "iopub.status.idle": "2023-01-02T21:38:11.923000+01:00",
     "shell.execute_reply": "2023-01-02T21:38:11.923000+01:00"
    },
    "tags": []
   },
   "outputs": [
    {
     "data": {
      "text/plain": [
       "FlexElasticManager: CTN-Mon-2138 active: 0"
      ]
     },
     "execution_count": 2,
     "metadata": {},
     "output_type": "execute_result"
    }
   ],
   "source": [
    "fem = FlexElasticManager()"
   ]
  },
  {
   "cell_type": "code",
   "execution_count": 3,
   "id": "f7196ab0-a518-4351-bc4c-c5ff7a27eac8",
   "metadata": {
    "execution": {
     "iopub.execute_input": "2023-01-02T21:38:13.213000+01:00",
     "iopub.status.busy": "2023-01-02T21:38:13.212000+01:00",
     "iopub.status.idle": "2023-01-02T21:38:13.576000+01:00",
     "shell.execute_reply": "2023-01-02T21:38:13.576000+01:00"
    },
    "tags": []
   },
   "outputs": [],
   "source": [
    "MariuxUtils.@everywhere fem begin \n",
    "    f(i) = (gethostname(), VERSION, getpid(), i)\n",
    "end"
   ]
  },
  {
   "cell_type": "code",
   "execution_count": 4,
   "id": "d6ee853a-d4d7-4c43-a1ae-405cf92192e8",
   "metadata": {
    "execution": {
     "iopub.execute_input": "2023-01-02T21:38:17.069000+01:00",
     "iopub.status.busy": "2023-01-02T21:38:17.068000+01:00",
     "iopub.status.idle": "2023-01-02T21:38:18.544000+01:00",
     "shell.execute_reply": "2023-01-02T21:38:18.544000+01:00"
    },
    "tags": []
   },
   "outputs": [
    {
     "data": {
      "text/plain": [
       "13-element Vector{String}:\n",
       " \"#!/usr/bin/env -S /project/evog\" ⋯ 34 bytes ⋯ \"/julia --threads=1 --project=@.\"\n",
       " \"@show VERSION\"\n",
       " \"using Pkg; Pkg.status()\"\n",
       " \"@show Threads.nthreads()\"\n",
       " \"@show pwd()\"\n",
       " \"using MariuxUtils\"\n",
       " \"MariuxUtils.init_worker(\\\"CTN-Mon-2138\\\")\"\n",
       " \"initfile = \\\"/project/evogen-com\" ⋯ 26 bytes ⋯ \"ipts/CTN-Mon-2138\\\" * \\\"-init.jl\\\"\"\n",
       " \"if isfile(initfile)\"\n",
       " \"\\tprintln(\\\"reading: \\\", initfile)\"\n",
       " \"\\tinclude(initfile)\"\n",
       " \"end\"\n",
       " \"elastic_worker(\\\"CTN-Mon-2138\\\",\\\"141.14.18.5\\\", 9296; stdout_to_master=false)\""
      ]
     },
     "execution_count": 4,
     "metadata": {},
     "output_type": "execute_result"
    }
   ],
   "source": [
    "readlines(fem.workerscript)"
   ]
  },
  {
   "cell_type": "code",
   "execution_count": 5,
   "id": "7889827a-740c-43be-bcd0-c79616e77b60",
   "metadata": {
    "execution": {
     "iopub.execute_input": "2023-01-02T21:38:19.341000+01:00",
     "iopub.status.busy": "2023-01-02T21:38:19.340000+01:00",
     "iopub.status.idle": "2023-01-02T21:38:19.417000+01:00",
     "shell.execute_reply": "2023-01-02T21:38:19.417000+01:00"
    },
    "tags": []
   },
   "outputs": [
    {
     "data": {
      "text/plain": [
       "FlexElasticManager: CTN-Mon-2138 active: 0"
      ]
     },
     "execution_count": 5,
     "metadata": {},
     "output_type": "execute_result"
    }
   ],
   "source": [
    "addprocs(fem, 4)"
   ]
  },
  {
   "cell_type": "code",
   "execution_count": 7,
   "id": "3c575832-2cbf-45f4-972f-f03ca8a3ba03",
   "metadata": {
    "execution": {
     "iopub.execute_input": "2023-01-02T21:38:27.578000+01:00",
     "iopub.status.busy": "2023-01-02T21:38:27.578000+01:00",
     "iopub.status.idle": "2023-01-02T21:38:27.579000+01:00",
     "shell.execute_reply": "2023-01-02T21:38:27.579000+01:00"
    },
    "tags": []
   },
   "outputs": [
    {
     "data": {
      "text/plain": [
       "FlexElasticManager: CTN-Mon-2138 active: 4"
      ]
     },
     "execution_count": 7,
     "metadata": {},
     "output_type": "execute_result"
    }
   ],
   "source": [
    "fem"
   ]
  },
  {
   "cell_type": "code",
   "execution_count": 8,
   "id": "98279f7c-12e8-4967-bdeb-af3ec2ca53b7",
   "metadata": {
    "execution": {
     "iopub.execute_input": "2023-01-02T21:38:28.704000+01:00",
     "iopub.status.busy": "2023-01-02T21:38:28.703000+01:00",
     "iopub.status.idle": "2023-01-02T21:38:30.928000+01:00",
     "shell.execute_reply": "2023-01-02T21:38:30.928000+01:00"
    },
    "tags": []
   },
   "outputs": [
    {
     "data": {
      "text/plain": [
       "4-element Vector{Tuple{String, VersionNumber, Int32, Int64}}:\n",
       " (\"likearollingstone.molgen.mpg.de\", v\"1.8.4\", 6641, 2)\n",
       " (\"likearollingstone.molgen.mpg.de\", v\"1.8.4\", 6511, 3)\n",
       " (\"likearollingstone.molgen.mpg.de\", v\"1.8.4\", 6771, 4)\n",
       " (\"likearollingstone.molgen.mpg.de\", v\"1.8.4\", 6903, 5)"
      ]
     },
     "execution_count": 8,
     "metadata": {},
     "output_type": "execute_result"
    }
   ],
   "source": [
    "pmap(f, workers())"
   ]
  },
  {
   "cell_type": "code",
   "execution_count": 9,
   "id": "2f9ac108-40a6-4222-9994-11ea9dc768e3",
   "metadata": {
    "execution": {
     "iopub.execute_input": "2023-01-02T21:38:34.382000+01:00",
     "iopub.status.busy": "2023-01-02T21:38:34.381000+01:00",
     "iopub.status.idle": "2023-01-02T21:38:34.717000+01:00",
     "shell.execute_reply": "2023-01-02T21:38:34.717000+01:00"
    },
    "tags": []
   },
   "outputs": [
    {
     "data": {
      "text/plain": [
       "FlexElasticManager: CTN-Mon-2138 active: 4"
      ]
     },
     "execution_count": 9,
     "metadata": {},
     "output_type": "execute_result"
    }
   ],
   "source": [
    "addprocs(fem, [(\"elcattivo\", 5)])"
   ]
  },
  {
   "cell_type": "code",
   "execution_count": 17,
   "id": "9ec33f77-98ae-4f98-b686-7c09c7f40376",
   "metadata": {
    "execution": {
     "iopub.execute_input": "2023-01-02T21:38:44.324000+01:00",
     "iopub.status.busy": "2023-01-02T21:38:44.323000+01:00",
     "iopub.status.idle": "2023-01-02T21:38:44.324000+01:00",
     "shell.execute_reply": "2023-01-02T21:38:44.324000+01:00"
    },
    "tags": []
   },
   "outputs": [
    {
     "data": {
      "text/plain": [
       "FlexElasticManager: CTN-Mon-2138 active: 9"
      ]
     },
     "execution_count": 17,
     "metadata": {},
     "output_type": "execute_result"
    }
   ],
   "source": [
    "fem"
   ]
  },
  {
   "cell_type": "code",
   "execution_count": 18,
   "id": "a31b2e2d-d59b-4b69-9f18-1432826ce7f2",
   "metadata": {
    "execution": {
     "iopub.execute_input": "2023-01-02T21:38:44.683000+01:00",
     "iopub.status.busy": "2023-01-02T21:38:44.683000+01:00",
     "iopub.status.idle": "2023-01-02T21:38:45.415000+01:00",
     "shell.execute_reply": "2023-01-02T21:38:45.415000+01:00"
    },
    "tags": []
   },
   "outputs": [
    {
     "data": {
      "text/plain": [
       "9-element Vector{Tuple{String, VersionNumber, Int32, Int64}}:\n",
       " (\"likearollingstone.molgen.mpg.de\", v\"1.8.4\", 6641, 2)\n",
       " (\"likearollingstone.molgen.mpg.de\", v\"1.8.4\", 6903, 3)\n",
       " (\"likearollingstone.molgen.mpg.de\", v\"1.8.4\", 6771, 4)\n",
       " (\"likearollingstone.molgen.mpg.de\", v\"1.8.4\", 6511, 5)\n",
       " (\"elcattivo.molgen.mpg.de\", v\"1.8.4\", 46852, 6)\n",
       " (\"elcattivo.molgen.mpg.de\", v\"1.8.4\", 46985, 7)\n",
       " (\"elcattivo.molgen.mpg.de\", v\"1.8.4\", 47127, 8)\n",
       " (\"elcattivo.molgen.mpg.de\", v\"1.8.4\", 47404, 9)\n",
       " (\"elcattivo.molgen.mpg.de\", v\"1.8.4\", 47266, 10)"
      ]
     },
     "execution_count": 18,
     "metadata": {},
     "output_type": "execute_result"
    }
   ],
   "source": [
    "pmap(f, workers())"
   ]
  },
  {
   "cell_type": "code",
   "execution_count": 19,
   "id": "79cc7e1c-7c08-437d-a41d-07cbc077b6e5",
   "metadata": {
    "execution": {
     "iopub.execute_input": "2023-01-02T21:38:48.600000+01:00",
     "iopub.status.busy": "2023-01-02T21:38:48.600000+01:00",
     "iopub.status.idle": "2023-01-02T21:38:48.911000+01:00",
     "shell.execute_reply": "2023-01-02T21:38:48.911000+01:00"
    },
    "tags": []
   },
   "outputs": [
    {
     "data": {
      "text/plain": [
       "MXQgroup (4h): no active jobs"
      ]
     },
     "execution_count": 19,
     "metadata": {},
     "output_type": "execute_result"
    }
   ],
   "source": [
    "mxq = MXQgroup()"
   ]
  },
  {
   "cell_type": "code",
   "execution_count": 20,
   "id": "f053d77b-f41e-4e70-b3f6-1237b1b6c7ab",
   "metadata": {
    "execution": {
     "iopub.execute_input": "2023-01-02T21:38:50.244000+01:00",
     "iopub.status.busy": "2023-01-02T21:38:50.244000+01:00",
     "iopub.status.idle": "2023-01-02T21:38:51.189000+01:00",
     "shell.execute_reply": "2023-01-02T21:38:51.189000+01:00"
    },
    "tags": []
   },
   "outputs": [
    {
     "data": {
      "text/plain": [
       "FlexElasticManager: CTN-Mon-2138 active: 9  MXQgroup (4h): inq:4 run:0 fin:0"
      ]
     },
     "execution_count": 20,
     "metadata": {},
     "output_type": "execute_result"
    }
   ],
   "source": [
    "addprocs(fem, mxq, 4)"
   ]
  },
  {
   "cell_type": "code",
   "execution_count": 27,
   "id": "6828f7fc-4cc8-4a35-a35b-89d1443da1f0",
   "metadata": {
    "execution": {
     "iopub.execute_input": "2023-01-02T21:39:02.409000+01:00",
     "iopub.status.busy": "2023-01-02T21:39:02.408000+01:00",
     "iopub.status.idle": "2023-01-02T21:39:02.422000+01:00",
     "shell.execute_reply": "2023-01-02T21:39:02.422000+01:00"
    },
    "tags": []
   },
   "outputs": [
    {
     "data": {
      "text/plain": [
       "FlexElasticManager: CTN-Mon-2138 active: 9  MXQgroup (4h): inq:0 run:4 fin:0"
      ]
     },
     "execution_count": 27,
     "metadata": {},
     "output_type": "execute_result"
    }
   ],
   "source": [
    "fem"
   ]
  },
  {
   "cell_type": "code",
   "execution_count": 31,
   "id": "99861657-f9c3-4214-9e6c-8a15e28e48b9",
   "metadata": {
    "execution": {
     "iopub.execute_input": "2023-01-02T21:39:13.878000+01:00",
     "iopub.status.busy": "2023-01-02T21:39:13.878000+01:00",
     "iopub.status.idle": "2023-01-02T21:39:14.652000+01:00",
     "shell.execute_reply": "2023-01-02T21:39:14.651000+01:00"
    },
    "tags": []
   },
   "outputs": [
    {
     "data": {
      "text/plain": [
       "13-element Vector{Tuple{String, VersionNumber, Int32, Int64}}:\n",
       " (\"likearollingstone.molgen.mpg.de\", v\"1.8.4\", 6641, 2)\n",
       " (\"likearollingstone.molgen.mpg.de\", v\"1.8.4\", 6771, 3)\n",
       " (\"likearollingstone.molgen.mpg.de\", v\"1.8.4\", 6903, 4)\n",
       " (\"likearollingstone.molgen.mpg.de\", v\"1.8.4\", 6511, 5)\n",
       " (\"elcattivo.molgen.mpg.de\", v\"1.8.4\", 46852, 6)\n",
       " (\"elcattivo.molgen.mpg.de\", v\"1.8.4\", 47127, 7)\n",
       " (\"elcattivo.molgen.mpg.de\", v\"1.8.4\", 46985, 8)\n",
       " (\"elcattivo.molgen.mpg.de\", v\"1.8.4\", 47404, 9)\n",
       " (\"elcattivo.molgen.mpg.de\", v\"1.8.4\", 47266, 10)\n",
       " (\"kronos.molgen.mpg.de\", v\"1.8.4\", 42392, 11)\n",
       " (\"shutupandtakemymoney.molgen.mpg.de\", v\"1.8.4\", 78586, 12)\n",
       " (\"kronos.molgen.mpg.de\", v\"1.8.4\", 42394, 13)\n",
       " (\"superbia.molgen.mpg.de\", v\"1.8.4\", 64352, 14)"
      ]
     },
     "execution_count": 31,
     "metadata": {},
     "output_type": "execute_result"
    }
   ],
   "source": [
    "pmap(f, workers())"
   ]
  },
  {
   "cell_type": "code",
   "execution_count": 32,
   "id": "dcf4bd22-bf18-4393-9f3f-f1be26ca4ee7",
   "metadata": {
    "execution": {
     "iopub.execute_input": "2023-01-02T21:39:47.542000+01:00",
     "iopub.status.busy": "2023-01-02T21:39:47.542000+01:00",
     "iopub.status.idle": "2023-01-02T21:39:48.204000+01:00",
     "shell.execute_reply": "2023-01-02T21:39:48.204000+01:00"
    },
    "tags": []
   },
   "outputs": [
    {
     "data": {
      "text/plain": [
       "FlexElasticManager: CTN-Mon-2138 active: 0, terminated: 13  MXQgroup (4h): inq:0 run:4 fin:0"
      ]
     },
     "execution_count": 32,
     "metadata": {},
     "output_type": "execute_result"
    }
   ],
   "source": [
    "rmprocs(fem)"
   ]
  },
  {
   "cell_type": "code",
   "execution_count": 33,
   "id": "bec6a054-15a2-4db3-8599-a2b10749f006",
   "metadata": {
    "execution": {
     "iopub.execute_input": "2023-01-02T21:39:56.588000+01:00",
     "iopub.status.busy": "2023-01-02T21:39:56.588000+01:00",
     "iopub.status.idle": "2023-01-02T21:39:56.602000+01:00",
     "shell.execute_reply": "2023-01-02T21:39:56.602000+01:00"
    }
   },
   "outputs": [
    {
     "data": {
      "text/plain": [
       "FlexElasticManager: CTN-Mon-2138 active: 0, terminated: 13  MXQgroup (4h): inq:0 run:0 fin:4"
      ]
     },
     "execution_count": 33,
     "metadata": {},
     "output_type": "execute_result"
    }
   ],
   "source": [
    "fem"
   ]
  },
  {
   "cell_type": "code",
   "execution_count": null,
   "id": "35bcf598-6fd0-460b-bf3c-d288b4cc199b",
   "metadata": {},
   "outputs": [],
   "source": []
  }
 ],
 "metadata": {
  "kernelspec": {
   "display_name": "Julia 1.8.4",
   "language": "julia",
   "name": "julia-1.8"
  },
  "language_info": {
   "file_extension": ".jl",
   "mimetype": "application/julia",
   "name": "julia",
   "version": "1.8.4"
  }
 },
 "nbformat": 4,
 "nbformat_minor": 5
}
